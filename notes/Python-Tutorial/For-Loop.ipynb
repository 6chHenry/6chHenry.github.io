{
 "cells": [
  {
   "cell_type": "code",
   "execution_count": 1,
   "id": "df96b84e",
   "metadata": {},
   "outputs": [],
   "source": [
    "def good(num):\n",
    "    \"\"\"\n",
    "    Check if a number is good.\n",
    "    A number is considered good if it is even and greater than 10.\n",
    "    \"\"\"\n",
    "    return num > 10 and num % 2 == 0"
   ]
  },
  {
   "cell_type": "code",
   "execution_count": 2,
   "id": "8dc942a6",
   "metadata": {},
   "outputs": [],
   "source": [
    "lst = [i for i in range(100)]"
   ]
  },
  {
   "cell_type": "code",
   "execution_count": null,
   "id": "f9b3c4bf",
   "metadata": {},
   "outputs": [],
   "source": []
  }
 ],
 "metadata": {
  "kernelspec": {
   "display_name": "base",
   "language": "python",
   "name": "python3"
  },
  "language_info": {
   "codemirror_mode": {
    "name": "ipython",
    "version": 3
   },
   "file_extension": ".py",
   "mimetype": "text/x-python",
   "name": "python",
   "nbconvert_exporter": "python",
   "pygments_lexer": "ipython3",
   "version": "3.12.7"
  }
 },
 "nbformat": 4,
 "nbformat_minor": 5
}
