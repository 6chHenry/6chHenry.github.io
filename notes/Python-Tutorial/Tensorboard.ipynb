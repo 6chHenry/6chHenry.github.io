{
 "cells": [
  {
   "cell_type": "code",
   "execution_count": 4,
   "id": "5e5dce8a",
   "metadata": {},
   "outputs": [],
   "source": [
    "import torch\n",
    "from torch.utils.tensorboard.writer import SummaryWriter\n",
    "\n",
    "# 初始化 TensorBoard writer\n",
    "writer = SummaryWriter('runs/experiment_1')\n",
    "\n",
    "# 假设我们有一个简单的模型和损失函数\n",
    "model = torch.nn.Linear(10, 2)\n",
    "criterion = torch.nn.CrossEntropyLoss()\n",
    "\n",
    "# 创建假数据\n",
    "inputs = torch.randn(32, 10)\n",
    "labels = torch.randint(0, 2, (32,))\n",
    "\n",
    "# 训练循环\n",
    "for epoch in range(10):\n",
    "    outputs = model(inputs)\n",
    "    loss = criterion(outputs, labels)\n",
    "\n",
    "    # 记录损失值到 TensorBoard\n",
    "    writer.add_scalar('Loss/train', loss.item(), epoch)\n",
    "\n",
    "    # 你也可以记录其他内容，例如模型的参数、梯度等\n",
    "    for name, param in model.named_parameters():\n",
    "        writer.add_histogram(name, param, epoch)\n",
    "\n",
    "# 关闭 writer\n",
    "writer.close()\n"
   ]
  },
  {
   "cell_type": "code",
   "execution_count": 10,
   "id": "4ac6551c",
   "metadata": {},
   "outputs": [
    {
     "name": "stdout",
     "output_type": "stream",
     "text": [
      "TensorBoard is running at http://localhost:6006/\n"
     ]
    }
   ],
   "source": [
    "from tensorboard import program\n",
    "\n",
    "tb = program.TensorBoard()\n",
    "tb.configure(argv=[None, '--logdir=runs'])\n",
    "url = tb.launch()\n",
    "print(f\"TensorBoard is running at {url}\")\n"
   ]
  },
  {
   "cell_type": "code",
   "execution_count": 9,
   "id": "4e18725b",
   "metadata": {},
   "outputs": [
    {
     "name": "stderr",
     "output_type": "stream",
     "text": [
      "'tensorboard' �����ڲ����ⲿ���Ҳ���ǿ����еĳ���\n",
      "���������ļ���\n"
     ]
    }
   ],
   "source": [
    "!tensorboard --logdir=runs\n"
   ]
  },
  {
   "cell_type": "code",
   "execution_count": 11,
   "id": "114843cf",
   "metadata": {},
   "outputs": [],
   "source": [
    "from torch.utils.tensorboard.writer import SummaryWriter\n",
    "import random\n",
    "\n",
    "writer = SummaryWriter(\"runs/basic_scalars\")\n",
    "\n",
    "for epoch in range(100):\n",
    "    loss = random.random()\n",
    "    accuracy = 1 - loss\n",
    "    writer.add_scalar(\"Loss/train\", loss, epoch)\n",
    "    writer.add_scalar(\"Accuracy/train\", accuracy, epoch)\n",
    "\n",
    "writer.close()\n"
   ]
  },
  {
   "cell_type": "code",
   "execution_count": 12,
   "id": "700e274f",
   "metadata": {},
   "outputs": [],
   "source": [
    "import torch.nn as nn\n",
    "\n",
    "class MyModel(nn.Module):\n",
    "    def __init__(self):\n",
    "        super().__init__()\n",
    "        self.net = nn.Sequential(\n",
    "            nn.Linear(10, 32),\n",
    "            nn.ReLU(),\n",
    "            nn.Linear(32, 2)\n",
    "        )\n",
    "    def forward(self, x):\n",
    "        return self.net(x)\n",
    "    \n",
    "model = MyModel()\n",
    "dummy_input = torch.randn(1, 10)\n",
    "writer = SummaryWriter(\"runs/graph_example\")\n",
    "writer.add_graph(model, dummy_input)\n",
    "writer.close()"
   ]
  },
  {
   "cell_type": "code",
   "execution_count": 13,
   "id": "0322549a",
   "metadata": {},
   "outputs": [],
   "source": [
    "model = nn.Linear(10, 2)\n",
    "writer = SummaryWriter(\"runs/param_hist\")\n",
    "\n",
    "for epoch in range(100):\n",
    "    for name, param in model.named_parameters():\n",
    "        writer.add_histogram(name, param, epoch)\n",
    "\n",
    "writer.close()\n"
   ]
  },
  {
   "cell_type": "code",
   "execution_count": 15,
   "id": "a6872029",
   "metadata": {},
   "outputs": [],
   "source": [
    "import torchvision\n",
    "import torchvision.transforms as transforms\n",
    "\n",
    "transform = transforms.Compose([transforms.ToTensor()])\n",
    "dataset = torchvision.datasets.MNIST(root='./data', train=True, transform=transform, download=True)\n",
    "dataloader = torch.utils.data.DataLoader(dataset, batch_size=16, shuffle=True)\n",
    "\n",
    "images, labels = next(iter(dataloader))\n",
    "img_grid = torchvision.utils.make_grid(images)\n",
    "\n",
    "writer = SummaryWriter(\"runs/images\")\n",
    "writer.add_image(\"mnist_images\", img_grid)\n",
    "writer.close()\n"
   ]
  },
  {
   "cell_type": "code",
   "execution_count": 16,
   "id": "25f15107",
   "metadata": {},
   "outputs": [],
   "source": [
    "from torch.utils.tensorboard.writer import SummaryWriter\n",
    "\n",
    "features = torch.randn(100, 64)  # 100个样本，64维特征\n",
    "labels = [str(i % 10) for i in range(100)]  # 假设是0-9的标签\n",
    "\n",
    "writer = SummaryWriter(\"runs/embeddings\")\n",
    "writer.add_embedding(features, metadata=labels)\n",
    "writer.close()\n"
   ]
  }
 ],
 "metadata": {
  "kernelspec": {
   "display_name": "base",
   "language": "python",
   "name": "python3"
  },
  "language_info": {
   "codemirror_mode": {
    "name": "ipython",
    "version": 3
   },
   "file_extension": ".py",
   "mimetype": "text/x-python",
   "name": "python",
   "nbconvert_exporter": "python",
   "pygments_lexer": "ipython3",
   "version": "3.12.7"
  }
 },
 "nbformat": 4,
 "nbformat_minor": 5
}
