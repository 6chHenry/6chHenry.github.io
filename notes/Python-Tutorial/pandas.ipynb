{
 "cells": [
  {
   "cell_type": "code",
   "execution_count": 1,
   "id": "87163a51",
   "metadata": {},
   "outputs": [],
   "source": [
    "import pandas as pd\n"
   ]
  },
  {
   "cell_type": "code",
   "execution_count": 3,
   "id": "deda84c0",
   "metadata": {},
   "outputs": [
    {
     "name": "stdout",
     "output_type": "stream",
     "text": [
      "a    10\n",
      "b    20\n",
      "c    30\n",
      "dtype: int64\n",
      "10\n"
     ]
    }
   ],
   "source": [
    "s = pd.Series([10,20,30],index=['a','b','c'])\n",
    "print(s)\n",
    "print(s['a'])"
   ]
  },
  {
   "cell_type": "code",
   "execution_count": 4,
   "id": "000a146f",
   "metadata": {},
   "outputs": [
    {
     "name": "stdout",
     "output_type": "stream",
     "text": [
      "      name  age  Score\n",
      "0    Alice   25   85.5\n",
      "1      Bob   30   90.0\n",
      "2  Charlie   35   95.5\n"
     ]
    }
   ],
   "source": [
    "data = {\n",
    "    'name': ['Alice', 'Bob', 'Charlie'],\n",
    "    'age': [25, 30, 35],\n",
    "    'Score': [85.5, 90.0, 95.5]\n",
    "}\n",
    "\n",
    "df = pd.DataFrame(data)\n",
    "print(df)"
   ]
  },
  {
   "cell_type": "code",
   "execution_count": 10,
   "id": "5b739a01",
   "metadata": {},
   "outputs": [
    {
     "name": "stdout",
     "output_type": "stream",
     "text": [
      "    name  age  Score\n",
      "0  Alice   25   85.5\n"
     ]
    }
   ],
   "source": [
    "print(df.iloc[0:1])"
   ]
  },
  {
   "cell_type": "code",
   "execution_count": 12,
   "id": "f3141858",
   "metadata": {},
   "outputs": [
    {
     "name": "stdout",
     "output_type": "stream",
     "text": [
      "    name  age  Score\n",
      "0  Alice   25   85.5\n",
      "1    Bob   30   90.0\n"
     ]
    }
   ],
   "source": [
    "print(df.loc[0:1])"
   ]
  },
  {
   "cell_type": "code",
   "execution_count": 13,
   "id": "e1609b95",
   "metadata": {},
   "outputs": [
    {
     "name": "stdout",
     "output_type": "stream",
     "text": [
      "(5, 4)\n",
      "Index(['Name', 'Math', 'English', 'Gender'], dtype='object')\n",
      "Name       object\n",
      "Math        int64\n",
      "English     int64\n",
      "Gender     object\n",
      "dtype: object\n",
      "   Name  Math  English Gender\n",
      "0   Tom    88       78      M\n",
      "1  Lily    95       85      F\n",
      "   Name  Math  English Gender\n",
      "2  Jack    70       90      M\n",
      "3  Lucy    82       88      F\n",
      "4  Eric    91       76      M\n",
      "RangeIndex(start=0, stop=5, step=1)\n",
      "            Math   English\n",
      "count   5.000000   5.00000\n",
      "mean   85.200000  83.40000\n",
      "std     9.731393   6.14817\n",
      "min    70.000000  76.00000\n",
      "25%    82.000000  78.00000\n",
      "50%    88.000000  85.00000\n",
      "75%    91.000000  88.00000\n",
      "max    95.000000  90.00000\n"
     ]
    }
   ],
   "source": [
    "# 创建一个更大的 DataFrame\n",
    "data = {\n",
    "    'Name': ['Tom', 'Lily', 'Jack', 'Lucy', 'Eric'],\n",
    "    'Math': [88, 95, 70, 82, 91],\n",
    "    'English': [78, 85, 90, 88, 76],\n",
    "    'Gender': ['M', 'F', 'M', 'F', 'M']\n",
    "}\n",
    "\n",
    "df = pd.DataFrame(data)\n",
    "\n",
    "# 查看数据形状\n",
    "print(df.shape)\n",
    "\n",
    "# 查看列名和数据类型\n",
    "print(df.columns)\n",
    "print(df.dtypes)\n",
    "\n",
    "# 查看前两行和后三行\n",
    "print(df.head(2))\n",
    "print(df.tail(3))\n",
    "\n",
    "# 打印所有行索引\n",
    "print(df.index)\n",
    "\n",
    "# 打印数值列的统计信息\n",
    "print(df.describe())\n"
   ]
  },
  {
   "cell_type": "code",
   "execution_count": 14,
   "id": "4fb87062",
   "metadata": {},
   "outputs": [
    {
     "name": "stdout",
     "output_type": "stream",
     "text": [
      "<class 'pandas.core.frame.DataFrame'>\n",
      "RangeIndex: 5 entries, 0 to 4\n",
      "Data columns (total 4 columns):\n",
      " #   Column   Non-Null Count  Dtype \n",
      "---  ------   --------------  ----- \n",
      " 0   Name     5 non-null      object\n",
      " 1   Math     5 non-null      int64 \n",
      " 2   English  5 non-null      int64 \n",
      " 3   Gender   5 non-null      object\n",
      "dtypes: int64(2), object(2)\n",
      "memory usage: 292.0+ bytes\n",
      "None\n"
     ]
    }
   ],
   "source": [
    "print(df.info())"
   ]
  },
  {
   "cell_type": "code",
   "execution_count": 15,
   "id": "50c10580",
   "metadata": {},
   "outputs": [
    {
     "name": "stdout",
     "output_type": "stream",
     "text": [
      "   Name  Math  English  Age\n",
      "2  Jack    70       90   21\n",
      "3  Lucy    82       88   23\n",
      "0   Tom    88       78   20\n",
      "4  Eric    91       76   21\n",
      "1  Lily    95       85   22\n",
      "   Name  Math  English  Age\n",
      "3  Lucy    82       88   23\n",
      "1  Lily    95       85   22\n",
      "2  Jack    70       90   21\n",
      "4  Eric    91       76   21\n",
      "0   Tom    88       78   20\n",
      "   Name  Math  English  Age\n",
      "0   Tom    88       78   20\n",
      "2  Jack    70       90   21\n",
      "4  Eric    91       76   21\n",
      "1  Lily    95       85   22\n",
      "3  Lucy    82       88   23\n",
      "   Age  English  Math  Name\n",
      "0   20       78    88   Tom\n",
      "1   22       85    95  Lily\n",
      "2   21       90    70  Jack\n",
      "3   23       88    82  Lucy\n",
      "4   21       76    91  Eric\n"
     ]
    }
   ],
   "source": [
    "data = {\n",
    "    'Name': ['Tom', 'Lily', 'Jack', 'Lucy', 'Eric'],\n",
    "    'Math': [88, 95, 70, 82, 91],\n",
    "    'English': [78, 85, 90, 88, 76],\n",
    "    'Age': [20, 22, 21, 23, 21]\n",
    "}\n",
    "df = pd.DataFrame(data)\n",
    "\n",
    "# 1. 按 Math 成绩升序排序\n",
    "print(df.sort_values(by='Math'))\n",
    "\n",
    "# 2. 按 Age 降序排序\n",
    "print(df.sort_values(by='Age', ascending=False))\n",
    "\n",
    "# 3. 按 Age 升序 + English 降序\n",
    "print(df.sort_values(by=['Age', 'English'], ascending=[True, False]))\n",
    "\n",
    "# 4. 按列名排序（列从 A 到 Z）\n",
    "print(df.sort_index(axis=1))"
   ]
  },
  {
   "cell_type": "code",
   "execution_count": 16,
   "id": "9cb304f1",
   "metadata": {},
   "outputs": [],
   "source": [
    "import pandas as pd\n",
    "\n",
    "data = {\n",
    "    'Name': ['Tom', 'Lily', 'Jack', 'Lucy', 'Eric', 'Anna'],\n",
    "    'Math': [88, 95, 70, 82, 91, 85],\n",
    "    'English': [78, 85, 90, 88, 76, 92],\n",
    "    'Age': [20, 22, 21, 23, 21, 22],\n",
    "    'Gender': ['M', 'F', 'M', 'F', 'M', 'F']\n",
    "}\n",
    "df = pd.DataFrame(data)"
   ]
  },
  {
   "cell_type": "code",
   "execution_count": 22,
   "id": "52887465",
   "metadata": {},
   "outputs": [
    {
     "name": "stdout",
     "output_type": "stream",
     "text": [
      "F\n",
      "   Name  Math  English  Age Gender\n",
      "1  Lily    95       85   22      F\n",
      "3  Lucy    82       88   23      F\n",
      "5  Anna    85       92   22      F\n",
      "M\n",
      "   Name  Math  English  Age Gender\n",
      "0   Tom    88       78   20      M\n",
      "2  Jack    70       90   21      M\n",
      "4  Eric    91       76   21      M\n"
     ]
    }
   ],
   "source": [
    "# 按 Gender 列分组\n",
    "grouped = df.groupby('Gender')\n",
    "\n",
    "# 查看每个组的内容\n",
    "for name, group in grouped:\n",
    "    print(name)\n",
    "    print(group)\n"
   ]
  },
  {
   "cell_type": "code",
   "execution_count": 23,
   "id": "cd6e23db",
   "metadata": {},
   "outputs": [
    {
     "name": "stdout",
     "output_type": "stream",
     "text": [
      "             Math         English\n",
      "             mean  sum       mean\n",
      "Gender                           \n",
      "F       87.333333  262  88.333333\n",
      "M       83.000000  249  81.333333\n"
     ]
    }
   ],
   "source": [
    "# 按 Gender 分组，聚合 Math 和 English 列\n",
    "grouped_agg = grouped.agg({\n",
    "    'Math': ['mean', 'sum'],\n",
    "    'English': 'mean'\n",
    "})\n",
    "print(grouped_agg)\n"
   ]
  }
 ],
 "metadata": {
  "kernelspec": {
   "display_name": "base",
   "language": "python",
   "name": "python3"
  },
  "language_info": {
   "codemirror_mode": {
    "name": "ipython",
    "version": 3
   },
   "file_extension": ".py",
   "mimetype": "text/x-python",
   "name": "python",
   "nbconvert_exporter": "python",
   "pygments_lexer": "ipython3",
   "version": "3.12.7"
  }
 },
 "nbformat": 4,
 "nbformat_minor": 5
}
